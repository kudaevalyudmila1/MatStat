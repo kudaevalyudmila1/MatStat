{
 "cells": [
  {
   "cell_type": "markdown",
   "metadata": {},
   "source": [
    "Задача 1. Даны две  независимые выборки. Не соблюдается условие нормальности\n",
    "x1  380,420, 290\n",
    "y1 140,360,200,900\n",
    "\n",
    "Сделайте вывод по результатам, полученным с помощью функции."
   ]
  },
  {
   "cell_type": "markdown",
   "metadata": {},
   "source": [
    "Решение. Т.к. у нас две независимые выборки, применяем непараметрический тест Критерий Манна Уитни:"
   ]
  },
  {
   "cell_type": "code",
   "execution_count": 3,
   "metadata": {},
   "outputs": [
    {
     "data": {
      "text/plain": [
       "MannwhitneyuResult(statistic=8.0, pvalue=0.6285714285714286)"
      ]
     },
     "execution_count": 3,
     "metadata": {},
     "output_type": "execute_result"
    }
   ],
   "source": [
    "import numpy as np\n",
    "from scipy import stats\n",
    "\n",
    "x1 = np.array([380,420, 290])\n",
    "y1 = np.array([140,360,200,900])\n",
    "stats.mannwhitneyu(x1,y1)"
   ]
  },
  {
   "cell_type": "markdown",
   "metadata": {},
   "source": [
    "Т.к. pvalue > a=0.05, это дает нам право сделать выбор в пользу нулевой гипотезы, т.е. статистически значимых различий между выборками нет."
   ]
  },
  {
   "cell_type": "markdown",
   "metadata": {},
   "source": [
    "Задача 2.  Исследовалось влияние препарата на уровень давления пациентов. Сначала измерялось давление до приема препарата, потом через 10 минут и через 30 минут. Есть ли статистически значимые различия?\n",
    "\n",
    "1е измерение до приема препарата: 150, 160, 165, 145, 155\n",
    "2е измерение через 10 минут: 140, 155, 150,  130, 135\n",
    "3е измерение через 30 минут: 130, 130, 120, 130, 125"
   ]
  },
  {
   "cell_type": "markdown",
   "metadata": {},
   "source": [
    "Решение. При множественном  сравнении и анализе повторных измерений применяем Критерий Фридмана."
   ]
  },
  {
   "cell_type": "code",
   "execution_count": 4,
   "metadata": {},
   "outputs": [
    {
     "data": {
      "text/plain": [
       "FriedmanchisquareResult(statistic=9.578947368421062, pvalue=0.00831683351100441)"
      ]
     },
     "execution_count": 4,
     "metadata": {},
     "output_type": "execute_result"
    }
   ],
   "source": [
    "a0 = np.array([150, 160, 165, 145, 155])\n",
    "a10 = np.array([140, 155, 150,  130, 135])\n",
    "a30 = np.array([130, 130, 120, 130, 125])\n",
    "stats.friedmanchisquare(a0, a10, a30)"
   ]
  },
  {
   "cell_type": "markdown",
   "metadata": {},
   "source": [
    "pvalue < a=0.05 следовательно выявлена статистическая значимость различий между выборками."
   ]
  },
  {
   "cell_type": "markdown",
   "metadata": {},
   "source": [
    "Задача 3. Сравните 1 и 2 е измерения, предполагая, что 3го измерения через 30 минут не было."
   ]
  },
  {
   "cell_type": "markdown",
   "metadata": {},
   "source": [
    "Решение. Т.к. у нас две группы зависимых выборок применяем Критерий Уилкоксона."
   ]
  },
  {
   "cell_type": "code",
   "execution_count": 5,
   "metadata": {},
   "outputs": [
    {
     "data": {
      "text/plain": [
       "WilcoxonResult(statistic=0.0, pvalue=0.0625)"
      ]
     },
     "execution_count": 5,
     "metadata": {},
     "output_type": "execute_result"
    }
   ],
   "source": [
    "stats.wilcoxon(a0, a10)"
   ]
  },
  {
   "cell_type": "markdown",
   "metadata": {},
   "source": [
    "pvalue > a=0.05 следовательно не выявлена статистическая значимость различий между выборками."
   ]
  },
  {
   "cell_type": "markdown",
   "metadata": {},
   "source": [
    "Задача 4. Даны 3 группы  учеников плавания.\n",
    "В 1 группе время на дистанцию 50 м составляют:\n",
    "56, 60, 62, 55, 71, 67, 59, 58, 64, 67\n",
    "\n",
    "Вторая группа : 57, 58, 69, 48, 72, 70, 68, 71, 50, 53\n",
    "Третья группа: 57, 67, 49, 48, 47, 55, 66, 51, 54"
   ]
  },
  {
   "cell_type": "markdown",
   "metadata": {},
   "source": [
    "Решение. Т.к. множественное сравнение и независимые выборки, применияем Крускалла-Уоллиса."
   ]
  },
  {
   "cell_type": "code",
   "execution_count": 6,
   "metadata": {},
   "outputs": [
    {
     "data": {
      "text/plain": [
       "KruskalResult(statistic=5.465564058257224, pvalue=0.06503809985904942)"
      ]
     },
     "execution_count": 6,
     "metadata": {},
     "output_type": "execute_result"
    }
   ],
   "source": [
    "grup1 = np.array([56, 60, 62, 55, 71, 67, 59, 58, 64, 67])\n",
    "grup2 = np.array([57, 58, 69, 48, 72, 70, 68, 71, 50, 53])\n",
    "grup3 = np.array([57, 67, 49, 48, 47, 55, 66, 51, 54])\n",
    "stats.kruskal(grup1, grup2, grup3)"
   ]
  },
  {
   "cell_type": "markdown",
   "metadata": {},
   "source": [
    "pvalue > a=0.05 следовательно не выявлена статистическая значимость различий между выборками."
   ]
  },
  {
   "cell_type": "markdown",
   "metadata": {},
   "source": [
    "Задача 5. Заявляется, что партия изготавливается со средним арифметическим 2,5 см. Проверить данную гипотезу, если известно, что размеры изделий подчинены нормальному закону распределения. Объем выборки 10, уровень статистической значимости 5%\n",
    "\n",
    "2.51, 2.35, 2.74, 2.56, 2.40, 2.36, 2.65, 2.7, 2.67, 2.34"
   ]
  },
  {
   "cell_type": "code",
   "execution_count": 7,
   "metadata": {},
   "outputs": [
    {
     "name": "stdout",
     "output_type": "stream",
     "text": [
      "медиана = 2.5279999999999996\n",
      "среднее квадратичное отклонение = 0.1572542173961923\n",
      "Найденное значение tn = 0.5630613661802959\n"
     ]
    }
   ],
   "source": [
    "p = np.array([2.51, 2.35, 2.74, 2.56, 2.40, 2.36, 2.65, 2.7, 2.67, 2.34])\n",
    "n = 10\n",
    "a = 0.05\n",
    "m = np.mean(p)\n",
    "std= np.std(p, ddof=1)\n",
    "print(f'медиана = {m}')\n",
    "print(f'среднее квадратичное отклонение = {std}')\n",
    "tn=(np.mean(p)-2.5)/(np.std(p,ddof=1)/n**0.5)\n",
    "print(f'Найденное значение tn = {tn}')"
   ]
  },
  {
   "cell_type": "markdown",
   "metadata": {},
   "source": [
    "найдем t табличное a = 1-95%, т.к распределение нормальное, отсекаем % с 2-х сторон a/2 =0.025"
   ]
  },
  {
   "cell_type": "code",
   "execution_count": 8,
   "metadata": {},
   "outputs": [
    {
     "name": "stdout",
     "output_type": "stream",
     "text": [
      "Табличное значение t-критерия: 2.2621571627409915\n"
     ]
    }
   ],
   "source": [
    "tt=stats.t.ppf(0.975,n-1)\n",
    "print(f'Табличное значение t-критерия: {tt}')"
   ]
  },
  {
   "cell_type": "markdown",
   "metadata": {},
   "source": [
    "|tn| < tt Гипотеза - верна. Партия изготавливается со средним арифметическим 2,5 см."
   ]
  }
 ],
 "metadata": {
  "kernelspec": {
   "display_name": "Python 3",
   "language": "python",
   "name": "python3"
  },
  "language_info": {
   "codemirror_mode": {
    "name": "ipython",
    "version": 3
   },
   "file_extension": ".py",
   "mimetype": "text/x-python",
   "name": "python",
   "nbconvert_exporter": "python",
   "pygments_lexer": "ipython3",
   "version": "3.11.3"
  }
 },
 "nbformat": 4,
 "nbformat_minor": 2
}
